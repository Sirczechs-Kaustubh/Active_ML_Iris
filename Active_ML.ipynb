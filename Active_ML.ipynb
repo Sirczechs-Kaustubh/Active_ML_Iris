{
  "nbformat": 4,
  "nbformat_minor": 0,
  "metadata": {
    "colab": {
      "provenance": [],
      "authorship_tag": "ABX9TyN7pQdhtlBsSoVzFOyKWYXR",
      "include_colab_link": true
    },
    "kernelspec": {
      "name": "python3",
      "display_name": "Python 3"
    },
    "language_info": {
      "name": "python"
    }
  },
  "cells": [
    {
      "cell_type": "markdown",
      "metadata": {
        "id": "view-in-github",
        "colab_type": "text"
      },
      "source": [
        "<a href=\"https://colab.research.google.com/github/Sirczechs-Kaustubh/Active_ML_Iris/blob/main/Active_ML.ipynb\" target=\"_parent\"><img src=\"https://colab.research.google.com/assets/colab-badge.svg\" alt=\"Open In Colab\"/></a>"
      ]
    },
    {
      "cell_type": "code",
      "execution_count": null,
      "metadata": {
        "id": "8oLuoK7jag7s"
      },
      "outputs": [],
      "source": [
        "from sklearn.datasets import load_iris\n",
        "from sklearn.ensemble import RandomForestClassifier # Please insert comment\n",
        "from sklearn.model_selection import train_test_split\n",
        "from sklearn.metrics import matthews_corrcoef\n",
        "import numpy as np # Please insert comment\n",
        "import pandas as pd # Please insert comment\n",
        "import matplotlib.pyplot as plt # Please insert comment"
      ]
    },
    {
      "cell_type": "code",
      "source": [
        "# Load the iris dataset\n",
        "X, y = load_iris(return_X_y=True)\n",
        "\n",
        "\n",
        "# Please insert comment\n",
        "\n",
        "\n",
        "# Please insert comment\n",
        "\n",
        "\n",
        "# List to store MCC scores\n",
        "#mcc_scores = []\n"
      ],
      "metadata": {
        "id": "JY2i9YdsaqE6"
      },
      "execution_count": null,
      "outputs": []
    },
    {
      "cell_type": "code",
      "source": [
        "def active_learner(n_iter=10, num_samples=2, starting_size=5, r_state=42):\n",
        "  X_train, X_test, y_train, y_test = train_test_split(X, y, train_size=starting_size, random_state=r_state)\n",
        "  # initial fit\n",
        "  clf_rf = RandomForestClassifier(random_state=r_state)\n",
        "  mcc_scores=[]\n",
        "  for iteration in range(n_iter): # Number of Iterations for the Active Learner\n",
        "      print(iteration)\n",
        "      clf_rf.fit(X_train, y_train)\n",
        "      pred_q1 = clf_rf.predict_proba(X_test)\n",
        "\n",
        "    # Calculate uncertainty\n",
        "      uncertainty = (1 - np.max(pred_q1, axis=1)) * 100\n",
        "\n",
        "    # Find indexes of the 2 most uncertain samples\n",
        "      q_indexes = np.argsort(uncertainty)[-num_samples:]\n",
        "\n",
        "    # Add these samples to the training set\n",
        "      X_train = np.vstack((X_train, X_test[q_indexes]))\n",
        "      y_train = np.concatenate((y_train, y_test[q_indexes]))\n",
        "\n",
        "    # Remove these samples from the test set\n",
        "      X_test = np.delete(X_test, q_indexes, axis=0)\n",
        "      y_test = np.delete(y_test, q_indexes)\n",
        "\n",
        "    # Retrain the model and compute MCC score\n",
        "      y_pred = clf_rf.fit(X_train, y_train).predict(X_test)\n",
        "      mcc = matthews_corrcoef(y_test, y_pred)\n",
        "      mcc_scores.append(mcc)\n",
        "\n",
        "  return(mcc_scores)\n",
        "\n",
        "scores = active_learner(15,5,5,43)\n",
        "pd.DataFrame(scores).plot.bar()"
      ],
      "metadata": {
        "colab": {
          "base_uri": "https://localhost:8080/",
          "height": 712
        },
        "id": "yWcb1wTaau8Z",
        "outputId": "e8a03d57-94b2-486f-9b26-35a2df6c95af"
      },
      "execution_count": null,
      "outputs": [
        {
          "output_type": "stream",
          "name": "stdout",
          "text": [
            "0\n",
            "1\n",
            "2\n",
            "3\n",
            "4\n",
            "5\n",
            "6\n",
            "7\n",
            "8\n",
            "9\n",
            "10\n",
            "11\n",
            "12\n",
            "13\n",
            "14\n"
          ]
        },
        {
          "output_type": "execute_result",
          "data": {
            "text/plain": [
              "<Axes: >"
            ]
          },
          "metadata": {},
          "execution_count": 13
        },
        {
          "output_type": "display_data",
          "data": {
            "text/plain": [
              "<Figure size 640x480 with 1 Axes>"
            ],
            "image/png": "[encoded data removed]"
          },
          "metadata": {}
        }
      ]
    },
    {
      "cell_type": "code",
      "source": [],
      "metadata": {
        "id": "DRduHBGTawBI"
      },
      "execution_count": null,
      "outputs": []
    }
  ]
}